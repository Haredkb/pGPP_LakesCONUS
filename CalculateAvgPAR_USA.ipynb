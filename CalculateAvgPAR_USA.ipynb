{
  "nbformat": 4,
  "nbformat_minor": 0,
  "metadata": {
    "colab": {
      "provenance": [],
      "toc_visible": true,
      "mount_file_id": "1KHwASEKX4x2H4owAK5VU3oSFzzvrPu2W",
      "authorship_tag": "ABX9TyMI3eREhshe/cipXR/s4HQT",
      "include_colab_link": true
    },
    "kernelspec": {
      "name": "python3",
      "display_name": "Python 3"
    },
    "language_info": {
      "name": "python"
    }
  },
  "cells": [
    {
      "cell_type": "markdown",
      "metadata": {
        "id": "view-in-github",
        "colab_type": "text"
      },
      "source": [
        "<a href=\"https://colab.research.google.com/github/Haredkb/pGPP_LakesCONUS/blob/main/CalculateAvgPAR_USA.ipynb\" target=\"_parent\"><img src=\"https://colab.research.google.com/assets/colab-badge.svg\" alt=\"Open In Colab\"/></a>"
      ]
    },
    {
      "cell_type": "code",
      "source": [
        "# For Pelgaic GPP model inputs\n",
        "# Danielle Hare\n",
        "#Cary Institute of Ecosystem Studies\n",
        "# create raster that has AVERAGE for each cell of 'MODIS/061/MCD18C2' FOR ALL BANDS within USA for date ran\n",
        "\n",
        "import ee\n",
        "\n",
        "# Initialize Earth Engine\n",
        "ee.Authenticate()\n",
        "ee.Initialize(project='par-lakes')\\\n",
        "\n",
        "# Define the region of interest (USA)\n",
        "usa = ee.FeatureCollection(\"USDOS/LSIB_SIMPLE/2017\") \\\n",
        "    .filter(ee.Filter.eq('country_na', 'United States'))\n",
        "\n",
        "# Define the time range\n",
        "startDate = '2015-01-01'\n",
        "endDate = '2023-12-31'\n",
        "\n",
        "# Define the MODIS collection\n",
        "modisCollection = ee.ImageCollection(\"MODIS/062/MCD18C2\") \\\n",
        "    .filterDate(startDate, endDate) \\\n",
        "    .filterBounds(usa) \\\n",
        "\n",
        "\n",
        "# Function to calculate the mean of all bands for each image in the collection\n",
        "def calculate_mean(image):\n",
        "    return image.reduce(ee.Reducer.mean())\n",
        "\n",
        "\n",
        "# Calculate mean for each image in the collection\n",
        "meanCollection = modisCollection.map(calculate_mean)\n",
        "\n",
        "# Create the mosaic of the collection\n",
        "meanMosaic = meanCollection.mosaic()\n",
        "\n",
        "# Define the scale for export (adjust as needed)\n",
        "scale = 500\n",
        "\n",
        "# Export the mosaic as a GeoTIFF\n",
        "task = ee.batch.Export.image.toDrive(\n",
        "    image=meanMosaic,\n",
        "    description='usa_modis_mean_2015_2023',\n",
        "    folder='earthengine',\n",
        "    scale=scale,\n",
        "    region=usa.geometry(),\n",
        "    maxPixels=1e13\n",
        ")\n",
        "\n",
        "task.start()\n",
        "\n",
        "print('Export task started.')\n"
      ],
      "metadata": {
        "colab": {
          "base_uri": "https://localhost:8080/"
        },
        "id": "0f-_O9NjYXfS",
        "outputId": "85d642db-1a0b-417a-f87b-7b916b398ef4"
      },
      "execution_count": null,
      "outputs": [
        {
          "output_type": "stream",
          "name": "stdout",
          "text": [
            "Export task started.\n"
          ]
        }
      ]
    }
  ]
}